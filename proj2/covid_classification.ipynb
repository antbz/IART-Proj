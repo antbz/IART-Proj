{
 "metadata": {
  "language_info": {
   "codemirror_mode": {
    "name": "ipython",
    "version": 3
   },
   "file_extension": ".py",
   "mimetype": "text/x-python",
   "name": "python",
   "nbconvert_exporter": "python",
   "pygments_lexer": "ipython3",
   "version": "3.8.5"
  },
  "orig_nbformat": 2,
  "kernelspec": {
   "name": "python385jvsc74a57bd09dd3c98d416b0b532d040c7c33706a2711858781af66a17ed364b3ea83b2b090",
   "display_name": "Python 3.8.5 64-bit ('anaconda3-2020.11': virtualenv)",
   "language": "python"
  }
 },
 "nbformat": 4,
 "nbformat_minor": 2,
 "cells": [
  {
   "source": [
    "# Covid Symptom Identification\n",
    "\n",
    "Project developed by:\n",
    "\n",
    "- Ana Teresa Cruz (up201806460)\n",
    "- André Nascimento (up201806461)\n",
    "- António Bezerra (up201806854)\n"
   ],
   "cell_type": "markdown",
   "metadata": {}
  },
  {
   "cell_type": "code",
   "execution_count": 2,
   "metadata": {},
   "outputs": [
    {
     "output_type": "execute_result",
     "data": {
      "text/plain": [
       "   COUGH  MUSCLE_ACHES  TIREDNESS  SORE_THROAT  RUNNY_NOSE  STUFFY_NOSE  \\\n",
       "0      0             0          1            0           1            0   \n",
       "1      0             0          1            0           0            0   \n",
       "2      0             1          1            1           0            0   \n",
       "3      0             0          0            1           1            0   \n",
       "4      0             0          1            0           1            0   \n",
       "\n",
       "   FEVER  NAUSEA  VOMITING  DIARRHEA  ...  DIFFICULTY_BREATHING  \\\n",
       "0      0       0         0         0  ...                     0   \n",
       "1      0       0         0         0  ...                     0   \n",
       "2      0       0         0         0  ...                     0   \n",
       "3      0       0         0         0  ...                     0   \n",
       "4      0       0         0         0  ...                     0   \n",
       "\n",
       "   LOSS_OF_TASTE  LOSS_OF_SMELL  ITCHY_NOSE  ITCHY_EYES  ITCHY_MOUTH  \\\n",
       "0              1              0           1           0            0   \n",
       "1              1              0           1           0            1   \n",
       "2              1              0           1           0            0   \n",
       "3              1              1           0           0            1   \n",
       "4              1              1           0           1            0   \n",
       "\n",
       "   ITCHY_INNER_EAR  SNEEZING  PINK_EYE     TYPE  \n",
       "0                1         0         1  ALLERGY  \n",
       "1                1         1         1  ALLERGY  \n",
       "2                0         0         1  ALLERGY  \n",
       "3                0         1         1  ALLERGY  \n",
       "4                1         1         1  ALLERGY  \n",
       "\n",
       "[5 rows x 21 columns]"
      ],
      "text/html": "<div>\n<style scoped>\n    .dataframe tbody tr th:only-of-type {\n        vertical-align: middle;\n    }\n\n    .dataframe tbody tr th {\n        vertical-align: top;\n    }\n\n    .dataframe thead th {\n        text-align: right;\n    }\n</style>\n<table border=\"1\" class=\"dataframe\">\n  <thead>\n    <tr style=\"text-align: right;\">\n      <th></th>\n      <th>COUGH</th>\n      <th>MUSCLE_ACHES</th>\n      <th>TIREDNESS</th>\n      <th>SORE_THROAT</th>\n      <th>RUNNY_NOSE</th>\n      <th>STUFFY_NOSE</th>\n      <th>FEVER</th>\n      <th>NAUSEA</th>\n      <th>VOMITING</th>\n      <th>DIARRHEA</th>\n      <th>...</th>\n      <th>DIFFICULTY_BREATHING</th>\n      <th>LOSS_OF_TASTE</th>\n      <th>LOSS_OF_SMELL</th>\n      <th>ITCHY_NOSE</th>\n      <th>ITCHY_EYES</th>\n      <th>ITCHY_MOUTH</th>\n      <th>ITCHY_INNER_EAR</th>\n      <th>SNEEZING</th>\n      <th>PINK_EYE</th>\n      <th>TYPE</th>\n    </tr>\n  </thead>\n  <tbody>\n    <tr>\n      <th>0</th>\n      <td>0</td>\n      <td>0</td>\n      <td>1</td>\n      <td>0</td>\n      <td>1</td>\n      <td>0</td>\n      <td>0</td>\n      <td>0</td>\n      <td>0</td>\n      <td>0</td>\n      <td>...</td>\n      <td>0</td>\n      <td>1</td>\n      <td>0</td>\n      <td>1</td>\n      <td>0</td>\n      <td>0</td>\n      <td>1</td>\n      <td>0</td>\n      <td>1</td>\n      <td>ALLERGY</td>\n    </tr>\n    <tr>\n      <th>1</th>\n      <td>0</td>\n      <td>0</td>\n      <td>1</td>\n      <td>0</td>\n      <td>0</td>\n      <td>0</td>\n      <td>0</td>\n      <td>0</td>\n      <td>0</td>\n      <td>0</td>\n      <td>...</td>\n      <td>0</td>\n      <td>1</td>\n      <td>0</td>\n      <td>1</td>\n      <td>0</td>\n      <td>1</td>\n      <td>1</td>\n      <td>1</td>\n      <td>1</td>\n      <td>ALLERGY</td>\n    </tr>\n    <tr>\n      <th>2</th>\n      <td>0</td>\n      <td>1</td>\n      <td>1</td>\n      <td>1</td>\n      <td>0</td>\n      <td>0</td>\n      <td>0</td>\n      <td>0</td>\n      <td>0</td>\n      <td>0</td>\n      <td>...</td>\n      <td>0</td>\n      <td>1</td>\n      <td>0</td>\n      <td>1</td>\n      <td>0</td>\n      <td>0</td>\n      <td>0</td>\n      <td>0</td>\n      <td>1</td>\n      <td>ALLERGY</td>\n    </tr>\n    <tr>\n      <th>3</th>\n      <td>0</td>\n      <td>0</td>\n      <td>0</td>\n      <td>1</td>\n      <td>1</td>\n      <td>0</td>\n      <td>0</td>\n      <td>0</td>\n      <td>0</td>\n      <td>0</td>\n      <td>...</td>\n      <td>0</td>\n      <td>1</td>\n      <td>1</td>\n      <td>0</td>\n      <td>0</td>\n      <td>1</td>\n      <td>0</td>\n      <td>1</td>\n      <td>1</td>\n      <td>ALLERGY</td>\n    </tr>\n    <tr>\n      <th>4</th>\n      <td>0</td>\n      <td>0</td>\n      <td>1</td>\n      <td>0</td>\n      <td>1</td>\n      <td>0</td>\n      <td>0</td>\n      <td>0</td>\n      <td>0</td>\n      <td>0</td>\n      <td>...</td>\n      <td>0</td>\n      <td>1</td>\n      <td>1</td>\n      <td>0</td>\n      <td>1</td>\n      <td>0</td>\n      <td>1</td>\n      <td>1</td>\n      <td>1</td>\n      <td>ALLERGY</td>\n    </tr>\n  </tbody>\n</table>\n<p>5 rows × 21 columns</p>\n</div>"
     },
     "metadata": {},
     "execution_count": 2
    }
   ],
   "source": [
    "import pandas as pd\n",
    "\n",
    "covid_data = pd.read_csv('large_data.csv')\n",
    "\n",
    "covid_data.head()"
   ]
  },
  {
   "cell_type": "code",
   "execution_count": 3,
   "metadata": {},
   "outputs": [
    {
     "output_type": "execute_result",
     "data": {
      "text/plain": [
       "              COUGH  MUSCLE_ACHES     TIREDNESS   SORE_THROAT    RUNNY_NOSE  \\\n",
       "count  44453.000000  44453.000000  44453.000000  44453.000000  44453.000000   \n",
       "mean       0.520662      0.519762      0.519897      0.519358      0.496232   \n",
       "std        0.499579      0.499615      0.499610      0.499631      0.499991   \n",
       "min        0.000000      0.000000      0.000000      0.000000      0.000000   \n",
       "25%        0.000000      0.000000      0.000000      0.000000      0.000000   \n",
       "50%        1.000000      1.000000      1.000000      1.000000      0.000000   \n",
       "75%        1.000000      1.000000      1.000000      1.000000      1.000000   \n",
       "max        1.000000      1.000000      1.000000      1.000000      1.000000   \n",
       "\n",
       "        STUFFY_NOSE         FEVER        NAUSEA      VOMITING      DIARRHEA  \\\n",
       "count  44453.000000  44453.000000  44453.000000  44453.000000  44453.000000   \n",
       "mean       0.495850      0.325400      0.324253      0.324523      0.323465   \n",
       "std        0.499988      0.468529      0.468100      0.468201      0.467804   \n",
       "min        0.000000      0.000000      0.000000      0.000000      0.000000   \n",
       "25%        0.000000      0.000000      0.000000      0.000000      0.000000   \n",
       "50%        0.000000      0.000000      0.000000      0.000000      0.000000   \n",
       "75%        1.000000      1.000000      1.000000      1.000000      1.000000   \n",
       "max        1.000000      1.000000      1.000000      1.000000      1.000000   \n",
       "\n",
       "       SHORTNESS_OF_BREATH  DIFFICULTY_BREATHING  LOSS_OF_TASTE  \\\n",
       "count         44453.000000          44453.000000   44453.000000   \n",
       "mean              0.323893              0.324455       0.422986   \n",
       "std               0.467965              0.468176       0.494039   \n",
       "min               0.000000              0.000000       0.000000   \n",
       "25%               0.000000              0.000000       0.000000   \n",
       "50%               0.000000              0.000000       0.000000   \n",
       "75%               1.000000              1.000000       1.000000   \n",
       "max               1.000000              1.000000       1.000000   \n",
       "\n",
       "       LOSS_OF_SMELL    ITCHY_NOSE    ITCHY_EYES   ITCHY_MOUTH  \\\n",
       "count   44453.000000  44453.000000  44453.000000  44453.000000   \n",
       "mean        0.423234      0.184285      0.184285      0.184285   \n",
       "std         0.494077      0.387720      0.387720      0.387720   \n",
       "min         0.000000      0.000000      0.000000      0.000000   \n",
       "25%         0.000000      0.000000      0.000000      0.000000   \n",
       "50%         0.000000      0.000000      0.000000      0.000000   \n",
       "75%         1.000000      0.000000      0.000000      0.000000   \n",
       "max         1.000000      1.000000      1.000000      1.000000   \n",
       "\n",
       "       ITCHY_INNER_EAR      SNEEZING      PINK_EYE  \n",
       "count     44453.000000  44453.000000  44453.000000  \n",
       "mean          0.184285      0.519313      0.184240  \n",
       "std           0.387720      0.499633      0.387684  \n",
       "min           0.000000      0.000000      0.000000  \n",
       "25%           0.000000      0.000000      0.000000  \n",
       "50%           0.000000      1.000000      0.000000  \n",
       "75%           0.000000      1.000000      0.000000  \n",
       "max           1.000000      1.000000      1.000000  "
      ],
      "text/html": "<div>\n<style scoped>\n    .dataframe tbody tr th:only-of-type {\n        vertical-align: middle;\n    }\n\n    .dataframe tbody tr th {\n        vertical-align: top;\n    }\n\n    .dataframe thead th {\n        text-align: right;\n    }\n</style>\n<table border=\"1\" class=\"dataframe\">\n  <thead>\n    <tr style=\"text-align: right;\">\n      <th></th>\n      <th>COUGH</th>\n      <th>MUSCLE_ACHES</th>\n      <th>TIREDNESS</th>\n      <th>SORE_THROAT</th>\n      <th>RUNNY_NOSE</th>\n      <th>STUFFY_NOSE</th>\n      <th>FEVER</th>\n      <th>NAUSEA</th>\n      <th>VOMITING</th>\n      <th>DIARRHEA</th>\n      <th>SHORTNESS_OF_BREATH</th>\n      <th>DIFFICULTY_BREATHING</th>\n      <th>LOSS_OF_TASTE</th>\n      <th>LOSS_OF_SMELL</th>\n      <th>ITCHY_NOSE</th>\n      <th>ITCHY_EYES</th>\n      <th>ITCHY_MOUTH</th>\n      <th>ITCHY_INNER_EAR</th>\n      <th>SNEEZING</th>\n      <th>PINK_EYE</th>\n    </tr>\n  </thead>\n  <tbody>\n    <tr>\n      <th>count</th>\n      <td>44453.000000</td>\n      <td>44453.000000</td>\n      <td>44453.000000</td>\n      <td>44453.000000</td>\n      <td>44453.000000</td>\n      <td>44453.000000</td>\n      <td>44453.000000</td>\n      <td>44453.000000</td>\n      <td>44453.000000</td>\n      <td>44453.000000</td>\n      <td>44453.000000</td>\n      <td>44453.000000</td>\n      <td>44453.000000</td>\n      <td>44453.000000</td>\n      <td>44453.000000</td>\n      <td>44453.000000</td>\n      <td>44453.000000</td>\n      <td>44453.000000</td>\n      <td>44453.000000</td>\n      <td>44453.000000</td>\n    </tr>\n    <tr>\n      <th>mean</th>\n      <td>0.520662</td>\n      <td>0.519762</td>\n      <td>0.519897</td>\n      <td>0.519358</td>\n      <td>0.496232</td>\n      <td>0.495850</td>\n      <td>0.325400</td>\n      <td>0.324253</td>\n      <td>0.324523</td>\n      <td>0.323465</td>\n      <td>0.323893</td>\n      <td>0.324455</td>\n      <td>0.422986</td>\n      <td>0.423234</td>\n      <td>0.184285</td>\n      <td>0.184285</td>\n      <td>0.184285</td>\n      <td>0.184285</td>\n      <td>0.519313</td>\n      <td>0.184240</td>\n    </tr>\n    <tr>\n      <th>std</th>\n      <td>0.499579</td>\n      <td>0.499615</td>\n      <td>0.499610</td>\n      <td>0.499631</td>\n      <td>0.499991</td>\n      <td>0.499988</td>\n      <td>0.468529</td>\n      <td>0.468100</td>\n      <td>0.468201</td>\n      <td>0.467804</td>\n      <td>0.467965</td>\n      <td>0.468176</td>\n      <td>0.494039</td>\n      <td>0.494077</td>\n      <td>0.387720</td>\n      <td>0.387720</td>\n      <td>0.387720</td>\n      <td>0.387720</td>\n      <td>0.499633</td>\n      <td>0.387684</td>\n    </tr>\n    <tr>\n      <th>min</th>\n      <td>0.000000</td>\n      <td>0.000000</td>\n      <td>0.000000</td>\n      <td>0.000000</td>\n      <td>0.000000</td>\n      <td>0.000000</td>\n      <td>0.000000</td>\n      <td>0.000000</td>\n      <td>0.000000</td>\n      <td>0.000000</td>\n      <td>0.000000</td>\n      <td>0.000000</td>\n      <td>0.000000</td>\n      <td>0.000000</td>\n      <td>0.000000</td>\n      <td>0.000000</td>\n      <td>0.000000</td>\n      <td>0.000000</td>\n      <td>0.000000</td>\n      <td>0.000000</td>\n    </tr>\n    <tr>\n      <th>25%</th>\n      <td>0.000000</td>\n      <td>0.000000</td>\n      <td>0.000000</td>\n      <td>0.000000</td>\n      <td>0.000000</td>\n      <td>0.000000</td>\n      <td>0.000000</td>\n      <td>0.000000</td>\n      <td>0.000000</td>\n      <td>0.000000</td>\n      <td>0.000000</td>\n      <td>0.000000</td>\n      <td>0.000000</td>\n      <td>0.000000</td>\n      <td>0.000000</td>\n      <td>0.000000</td>\n      <td>0.000000</td>\n      <td>0.000000</td>\n      <td>0.000000</td>\n      <td>0.000000</td>\n    </tr>\n    <tr>\n      <th>50%</th>\n      <td>1.000000</td>\n      <td>1.000000</td>\n      <td>1.000000</td>\n      <td>1.000000</td>\n      <td>0.000000</td>\n      <td>0.000000</td>\n      <td>0.000000</td>\n      <td>0.000000</td>\n      <td>0.000000</td>\n      <td>0.000000</td>\n      <td>0.000000</td>\n      <td>0.000000</td>\n      <td>0.000000</td>\n      <td>0.000000</td>\n      <td>0.000000</td>\n      <td>0.000000</td>\n      <td>0.000000</td>\n      <td>0.000000</td>\n      <td>1.000000</td>\n      <td>0.000000</td>\n    </tr>\n    <tr>\n      <th>75%</th>\n      <td>1.000000</td>\n      <td>1.000000</td>\n      <td>1.000000</td>\n      <td>1.000000</td>\n      <td>1.000000</td>\n      <td>1.000000</td>\n      <td>1.000000</td>\n      <td>1.000000</td>\n      <td>1.000000</td>\n      <td>1.000000</td>\n      <td>1.000000</td>\n      <td>1.000000</td>\n      <td>1.000000</td>\n      <td>1.000000</td>\n      <td>0.000000</td>\n      <td>0.000000</td>\n      <td>0.000000</td>\n      <td>0.000000</td>\n      <td>1.000000</td>\n      <td>0.000000</td>\n    </tr>\n    <tr>\n      <th>max</th>\n      <td>1.000000</td>\n      <td>1.000000</td>\n      <td>1.000000</td>\n      <td>1.000000</td>\n      <td>1.000000</td>\n      <td>1.000000</td>\n      <td>1.000000</td>\n      <td>1.000000</td>\n      <td>1.000000</td>\n      <td>1.000000</td>\n      <td>1.000000</td>\n      <td>1.000000</td>\n      <td>1.000000</td>\n      <td>1.000000</td>\n      <td>1.000000</td>\n      <td>1.000000</td>\n      <td>1.000000</td>\n      <td>1.000000</td>\n      <td>1.000000</td>\n      <td>1.000000</td>\n    </tr>\n  </tbody>\n</table>\n</div>"
     },
     "metadata": {},
     "execution_count": 3
    }
   ],
   "source": [
    "covid_data.describe()"
   ]
  },
  {
   "cell_type": "code",
   "execution_count": 7,
   "metadata": {},
   "outputs": [],
   "source": [
    "allergy_data = covid_data.loc[covid_data['TYPE'] == 'ALLERGY']"
   ]
  },
  {
   "cell_type": "code",
   "execution_count": null,
   "metadata": {},
   "outputs": [],
   "source": []
  }
 ]
}